{
  "nbformat": 4,
  "nbformat_minor": 0,
  "metadata": {
    "colab": {
      "provenance": [],
      "mount_file_id": "1axEsr3NKKQLwcxzsjDsxifrdkizeGxmM",
      "authorship_tag": "ABX9TyOZaoxdTZ0Nr932HSHDB+Oo",
      "include_colab_link": true
    },
    "kernelspec": {
      "name": "python3",
      "display_name": "Python 3"
    },
    "language_info": {
      "name": "python"
    }
  },
  "cells": [
    {
      "cell_type": "markdown",
      "metadata": {
        "id": "view-in-github",
        "colab_type": "text"
      },
      "source": [
        "<a href=\"https://colab.research.google.com/github/DS5500T9/Solar-Irradiance-Prediction/blob/main/Dataset%20Curation/Numerical_Dataset_Curation.ipynb\" target=\"_parent\"><img src=\"https://colab.research.google.com/assets/colab-badge.svg\" alt=\"Open In Colab\"/></a>"
      ]
    },
    {
      "cell_type": "code",
      "execution_count": 17,
      "metadata": {
        "id": "gdZnMUxU41aS"
      },
      "outputs": [],
      "source": [
        "#importing necessary libraries\n",
        "import pandas as pd"
      ]
    },
    {
      "cell_type": "code",
      "source": [
        "#Uploading dataset with target variable and Met Data\n",
        "Num_df1 = pd.read_csv(\"/content/drive/MyDrive/Numerical Dataset Curation/Final Numerical Dataset.csv\")\n",
        "#Uploading Dataset accompnaied with the image dataset, helpful for BRBG Algorithm\n",
        "Num_df2=pd.read_csv(\"/content/drive/MyDrive/Numerical Dataset Curation/Numerical_BRBG_FINAL.csv\")"
      ],
      "metadata": {
        "id": "YRX9TxUa6rhA"
      },
      "execution_count": 18,
      "outputs": []
    },
    {
      "cell_type": "code",
      "source": [
        "#Data Cleaning method\n",
        "\n",
        "def data_formatting(df):\n",
        "  \"\"\"\n",
        "  Takes the dataframe processed the datetime column and returns the dataframe\n",
        "  \"\"\"\n",
        "  # Replace the '-' with '/' to standardize the date format\n",
        "  df['DATE (MM/DD/YYYY)'] = df['DATE (MM/DD/YYYY)'].str.replace('-', '/')\n",
        "  # Convert the entire column to datetime\n",
        "  df['DATE (MM/DD/YYYY)'] = pd.to_datetime(df['DATE (MM/DD/YYYY)'], format='%m/%d/%Y')\n",
        "  #create new Hours Column\n",
        "  df['HOURS'] = pd.to_datetime(df['HOUR-MST'], format='%H', errors='coerce').dt.strftime('%H:%M:%S')\n",
        "  # Convert 'HOURS' to timedelta format\n",
        "  df['HOURS'] = pd.to_timedelta(df['HOURS'])\n",
        "  #Creating 'DATETIME' column, dropping the rest of the columns , positioning the columns in correct order\n",
        "  df['DATETIME'] = df['DATE (MM/DD/YYYY)'] + df['HOURS']\n",
        "  df = df.drop(['DATE (MM/DD/YYYY)', 'HOURS', 'HOUR-MST'], axis=1)\n",
        "  df.insert(0, 'DATETIME', df.pop('DATETIME'))\n",
        "  #resetting index\n",
        "  df.reset_index(drop=True, inplace=True)\n",
        "  # Saving the file\n",
        "  #df.to_csv('Numerical_Data.csv', index=False)\n",
        "  return df"
      ],
      "metadata": {
        "id": "LvU6TYum66Rv"
      },
      "execution_count": 19,
      "outputs": []
    },
    {
      "cell_type": "code",
      "source": [
        "Num_df1=data_formatting(Num_df1)\n",
        "Num_df2=data_formatting(Num_df2)"
      ],
      "metadata": {
        "id": "XvOiDorg7bNI"
      },
      "execution_count": 20,
      "outputs": []
    },
    {
      "cell_type": "code",
      "source": [
        "# Merging both the dataset to create the final one\n",
        "Meterogical_Data = pd.merge(Num_df2,Num_df1,how=\"inner\",on=\"DATETIME\")\n",
        "#Saving the file to folder\n",
        "Meterogical_Data.to_csv(\"/content/drive/MyDrive/Numerical Dataset Curation/Meteorological_Data.csv\",index=False)"
      ],
      "metadata": {
        "id": "un-Z8Pw3Alhk"
      },
      "execution_count": 21,
      "outputs": []
    }
  ]
}
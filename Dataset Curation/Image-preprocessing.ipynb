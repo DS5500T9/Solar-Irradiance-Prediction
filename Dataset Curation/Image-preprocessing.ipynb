{
 "cells": [
  {
   "cell_type": "code",
   "execution_count": 1,
   "metadata": {},
   "outputs": [],
   "source": [
    "import cv2\n",
    "import numpy as np\n",
    "\n",
    "def extend_and_make_circular(input_path, output_path):\n",
    "    # Read the image\n",
    "    image = cv2.imread(input_path)\n",
    "    # Ensure the image is a square\n",
    "    size = max(image.shape[0], image.shape[1])\n",
    "    square_image = np.zeros((size, size, 3), dtype=np.uint8)\n",
    "    square_image[:image.shape[0], :image.shape[1], :] = image\n",
    "\n",
    "    # Create a circular mask\n",
    "    mask = np.zeros((size, size), dtype=np.uint8)\n",
    "    cv2.circle(mask, (size // 2, size // 2), size // 2, (255, 255, 255), thickness=cv2.FILLED)\n",
    "\n",
    "    # Apply the mask to the image\n",
    "    result = cv2.bitwise_and(square_image, square_image, mask=mask)\n",
    "\n",
    "    # Save the result\n",
    "    cv2.imwrite(output_path, result)"
   ]
  },
  {
   "cell_type": "code",
   "execution_count": null,
   "metadata": {},
   "outputs": [],
   "source": []
  }
 ],
 "metadata": {
  "kernelspec": {
   "display_name": "Python 3",
   "language": "python",
   "name": "python3"
  },
  "language_info": {
   "codemirror_mode": {
    "name": "ipython",
    "version": 3
   },
   "file_extension": ".py",
   "mimetype": "text/x-python",
   "name": "python",
   "nbconvert_exporter": "python",
   "pygments_lexer": "ipython3",
   "version": "3.10.4"
  }
 },
 "nbformat": 4,
 "nbformat_minor": 2
}

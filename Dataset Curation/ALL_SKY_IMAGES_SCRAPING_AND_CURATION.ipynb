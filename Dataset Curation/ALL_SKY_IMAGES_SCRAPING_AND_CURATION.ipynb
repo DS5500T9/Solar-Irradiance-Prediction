{
  "nbformat": 4,
  "nbformat_minor": 0,
  "metadata": {
    "colab": {
      "provenance": []
    },
    "kernelspec": {
      "name": "python3",
      "display_name": "Python 3"
    },
    "language_info": {
      "name": "python"
    }
  },
  "cells": [
    {
      "cell_type": "markdown",
      "source": [
        "WEB SCRAPING OF ALL SKY IMAGES"
      ],
      "metadata": {
        "id": "pwDCjy4rHcs9"
      }
    },
    {
      "cell_type": "code",
      "execution_count": null,
      "metadata": {
        "id": "Pypv80fWaQng"
      },
      "outputs": [],
      "source": [
        "import os\n",
        "import requests\n",
        "# from google.colab import drive\n",
        "\n",
        "# Mount Google Drive\n",
        "# drive.mount('/content/drive')\n",
        "\n",
        "# Define the base URL\n",
        "base_url = \"https://midcdmz.nrel.gov/tsi/SRRLASI/\"\n",
        "\n",
        "# Iterate over years (2021 to 2023)\n",
        "for year in range(2021,2024):\n",
        "    # Iterate over months (1 to 12)\n",
        "    for month in range(1, 13):\n",
        "        # Iterate over days (1 to 31)\n",
        "        for day in range(1, 32):\n",
        "            # Format the date as YYYYMMDD\n",
        "            date_str = f\"{year}{month:02d}{day:02d}\"\n",
        "\n",
        "            # Construct the download URL\n",
        "            download_url = f\"{base_url}{year}/{date_str}.zip\"\n",
        "\n",
        "            # Check if the URL exists and the file can be downloaded\n",
        "            response = requests.head(download_url)\n",
        "            if response.status_code == 200:\n",
        "                # Create a directory for the year if it doesn't exist in Google Drive\n",
        "                year_directory_drive = '/content/drive/MyDrive/All Sky Images/' + str(year)\n",
        "                if not os.path.exists(year_directory_drive):\n",
        "                    os.mkdir(year_directory_drive)\n",
        "\n",
        "                # Download the file to Google Drive\n",
        "                file_name_drive = os.path.join(year_directory_drive, f\"{date_str}.zip\")\n",
        "                with open(file_name_drive, 'wb') as file:\n",
        "                    file.write(requests.get(download_url).content)\n",
        "                print(f\"Downloaded: {file_name_drive}\")\n",
        "            else:\n",
        "                # If the URL does not exist, move to the next date\n",
        "                print(download_url)\n",
        "                continue\n"
      ]
    },
    {
      "cell_type": "markdown",
      "source": [
        "Extracting zip files and filtering the images"
      ],
      "metadata": {
        "id": "qyyitFYEHqMx"
      }
    },
    {
      "cell_type": "code",
      "source": [
        "import os\n",
        "import zipfile\n",
        "from google.colab import drive\n",
        "\n",
        "# Mount Google Drive\n",
        "drive.mount('/content/drive')\n",
        "\n",
        "# Specify the source and destination folders\n",
        "\n",
        "source_folder = '/content/drive/MyDrive/All Sky Images/2023'  # Source folder in Google Drive\n",
        "destination_folder = '/content/drive/MyDrive/All Sky Images/Extracted Images'  # Desired destination folder\n",
        "\n",
        "# Create the destination folder if it doesn't exist\n",
        "os.makedirs(destination_folder, exist_ok=True)\n",
        "\n",
        "# List of file extensions to keep\n",
        "extensions_to_keep = ['.jpg']\n",
        "\n",
        "# File names to keep\n",
        "filenames_to_keep = ['11_NE.jpg', '12_UE.jpg']\n",
        "\n",
        "# Iterate through the ZIP files in the source folder\n",
        "for filename in os.listdir(source_folder):\n",
        "    if filename.endswith('.zip'):\n",
        "        zip_filepath = os.path.join(source_folder, filename)\n",
        "        print(zip_filepath)\n",
        "\n",
        "        # Create a folder for the extracted files\n",
        "        extracted_folder = os.path.join(destination_folder, '2023')\n",
        "        os.makedirs(extracted_folder, exist_ok=True)\n",
        "        print(extracted_folder)\n",
        "        # Extract the ZIP file into the extracted folder\n",
        "        with zipfile.ZipFile(zip_filepath, 'r') as zip_ref:\n",
        "            for file_info in zip_ref.infolist():\n",
        "                if file_info.filename.endswith('.jpg') and \\\n",
        "                   (file_info.filename.endswith(tuple(filenames_to_keep))):\n",
        "                    # Extract and save the specified JPG files\n",
        "                    zip_ref.extract(file_info, extracted_folder)\n",
        "\n",
        "print(\"Extraction completed. Extracted files are in the '2022' folder within the destination folder.\")"
      ],
      "metadata": {
        "id": "p5WjcfjlHRaF"
      },
      "execution_count": null,
      "outputs": []
    },
    {
      "cell_type": "markdown",
      "source": [
        "Sample Images Display"
      ],
      "metadata": {
        "id": "JkNxrqfZH6L-"
      }
    },
    {
      "cell_type": "code",
      "source": [
        "import os\n",
        "from PIL import Image\n",
        "import matplotlib.pyplot as plt\n",
        "\n",
        "# Define the folder path where your JPG images are located\n",
        "folder_path = '/content/drive/MyDrive/All Sky Images/Extracted Images/2021'\n",
        "\n",
        "# List all JPG files in the folder\n",
        "jpg_files = [f for f in os.listdir(folder_path) if f.endswith('.jpg')]\n",
        "\n",
        "print(len(jpg_files))\n",
        "# Number of sample images to display\n",
        "num_samples = 5\n",
        "\n",
        "# Display sample images\n",
        "for i, jpg_file in enumerate(jpg_files[:num_samples]):\n",
        "    img_path = os.path.join(folder_path, jpg_file)\n",
        "    img = Image.open(img_path)\n",
        "\n",
        "    plt.subplot(1, num_samples, i+1)\n",
        "    plt.imshow(img)\n",
        "    plt.axis('off')\n",
        "    plt.title(jpg_file)\n",
        "\n",
        "plt.show()"
      ],
      "metadata": {
        "id": "UPtMwe3OWSyR"
      },
      "execution_count": null,
      "outputs": []
    }
  ]
}